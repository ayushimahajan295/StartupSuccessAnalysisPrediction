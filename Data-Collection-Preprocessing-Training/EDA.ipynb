{
 "cells": [
  {
   "cell_type": "code",
   "execution_count": 317,
   "id": "d2aeeada-2743-440c-acfa-d815c78a02e7",
   "metadata": {},
   "outputs": [],
   "source": [
    "import pandas as pd\n",
    "import numpy as np\n",
    "import matplotlib.pyplot as plt\n",
    "import seaborn as sns\n",
    "\n",
    "# Load the dataset\n",
    "df = pd.read_csv('final_startup_dataset_v2.csv')"
   ]
  },
  {
   "cell_type": "code",
   "execution_count": 318,
   "id": "cd159ddb-43de-4a97-9c44-27d653ee6459",
   "metadata": {},
   "outputs": [
    {
     "data": {
      "text/html": [
       "<div>\n",
       "<style scoped>\n",
       "    .dataframe tbody tr th:only-of-type {\n",
       "        vertical-align: middle;\n",
       "    }\n",
       "\n",
       "    .dataframe tbody tr th {\n",
       "        vertical-align: top;\n",
       "    }\n",
       "\n",
       "    .dataframe thead th {\n",
       "        text-align: right;\n",
       "    }\n",
       "</style>\n",
       "<table border=\"1\" class=\"dataframe\">\n",
       "  <thead>\n",
       "    <tr style=\"text-align: right;\">\n",
       "      <th></th>\n",
       "      <th>name</th>\n",
       "      <th>category_list</th>\n",
       "      <th>funding_total_usd</th>\n",
       "      <th>country_code</th>\n",
       "      <th>state_code</th>\n",
       "      <th>founded_at</th>\n",
       "      <th>funding_rounds</th>\n",
       "      <th>first_funding_at</th>\n",
       "      <th>last_funding_at</th>\n",
       "      <th>status</th>\n",
       "    </tr>\n",
       "  </thead>\n",
       "  <tbody>\n",
       "    <tr>\n",
       "      <th>0</th>\n",
       "      <td>1 Mainstream</td>\n",
       "      <td>['Apps', 'Cable', 'Distribution', 'Software']</td>\n",
       "      <td>5000000</td>\n",
       "      <td>USA</td>\n",
       "      <td>CA</td>\n",
       "      <td>2012-03-01</td>\n",
       "      <td>1</td>\n",
       "      <td>2015-03-17</td>\n",
       "      <td>2015-03-17</td>\n",
       "      <td>acquired</td>\n",
       "    </tr>\n",
       "    <tr>\n",
       "      <th>1</th>\n",
       "      <td>1000 Markets</td>\n",
       "      <td>['Art', 'E-Commerce', 'Marketplaces']</td>\n",
       "      <td>500000</td>\n",
       "      <td>USA</td>\n",
       "      <td>WA</td>\n",
       "      <td>2009-01-01</td>\n",
       "      <td>1</td>\n",
       "      <td>2009-05-15</td>\n",
       "      <td>2009-05-15</td>\n",
       "      <td>acquired</td>\n",
       "    </tr>\n",
       "    <tr>\n",
       "      <th>2</th>\n",
       "      <td>1000memories</td>\n",
       "      <td>['Curated Web']</td>\n",
       "      <td>2535000</td>\n",
       "      <td>USA</td>\n",
       "      <td>CA</td>\n",
       "      <td>2010-07-01</td>\n",
       "      <td>2</td>\n",
       "      <td>2010-01-01</td>\n",
       "      <td>2011-02-16</td>\n",
       "      <td>acquired</td>\n",
       "    </tr>\n",
       "    <tr>\n",
       "      <th>3</th>\n",
       "      <td>100Plus</td>\n",
       "      <td>['Analytics']</td>\n",
       "      <td>1250000</td>\n",
       "      <td>USA</td>\n",
       "      <td>CA</td>\n",
       "      <td>2011-09-16</td>\n",
       "      <td>2</td>\n",
       "      <td>2011-11-02</td>\n",
       "      <td>2011-11-30</td>\n",
       "      <td>acquired</td>\n",
       "    </tr>\n",
       "    <tr>\n",
       "      <th>4</th>\n",
       "      <td>1010data</td>\n",
       "      <td>['Software']</td>\n",
       "      <td>35000000</td>\n",
       "      <td>USA</td>\n",
       "      <td>NY</td>\n",
       "      <td>2000-01-01</td>\n",
       "      <td>1</td>\n",
       "      <td>2010-03-08</td>\n",
       "      <td>2010-03-08</td>\n",
       "      <td>acquired</td>\n",
       "    </tr>\n",
       "  </tbody>\n",
       "</table>\n",
       "</div>"
      ],
      "text/plain": [
       "           name                                  category_list  \\\n",
       "0  1 Mainstream  ['Apps', 'Cable', 'Distribution', 'Software']   \n",
       "1  1000 Markets          ['Art', 'E-Commerce', 'Marketplaces']   \n",
       "2  1000memories                                ['Curated Web']   \n",
       "3       100Plus                                  ['Analytics']   \n",
       "4      1010data                                   ['Software']   \n",
       "\n",
       "  funding_total_usd country_code state_code  founded_at  funding_rounds  \\\n",
       "0           5000000          USA         CA  2012-03-01               1   \n",
       "1            500000          USA         WA  2009-01-01               1   \n",
       "2           2535000          USA         CA  2010-07-01               2   \n",
       "3           1250000          USA         CA  2011-09-16               2   \n",
       "4          35000000          USA         NY  2000-01-01               1   \n",
       "\n",
       "  first_funding_at last_funding_at    status  \n",
       "0       2015-03-17      2015-03-17  acquired  \n",
       "1       2009-05-15      2009-05-15  acquired  \n",
       "2       2010-01-01      2011-02-16  acquired  \n",
       "3       2011-11-02      2011-11-30  acquired  \n",
       "4       2010-03-08      2010-03-08  acquired  "
      ]
     },
     "execution_count": 318,
     "metadata": {},
     "output_type": "execute_result"
    }
   ],
   "source": [
    "df.head()"
   ]
  },
  {
   "cell_type": "code",
   "execution_count": 319,
   "id": "9adaeaf3-287b-4c06-b920-40bc05f1e63a",
   "metadata": {},
   "outputs": [
    {
     "name": "stdout",
     "output_type": "stream",
     "text": [
      "<class 'pandas.core.frame.DataFrame'>\n",
      "RangeIndex: 13959 entries, 0 to 13958\n",
      "Data columns (total 10 columns):\n",
      " #   Column             Non-Null Count  Dtype \n",
      "---  ------             --------------  ----- \n",
      " 0   name               13958 non-null  object\n",
      " 1   category_list      12873 non-null  object\n",
      " 2   funding_total_usd  13959 non-null  object\n",
      " 3   country_code       11968 non-null  object\n",
      " 4   state_code         11750 non-null  object\n",
      " 5   founded_at         10227 non-null  object\n",
      " 6   funding_rounds     13959 non-null  int64 \n",
      " 7   first_funding_at   13957 non-null  object\n",
      " 8   last_funding_at    13959 non-null  object\n",
      " 9   status             13959 non-null  object\n",
      "dtypes: int64(1), object(9)\n",
      "memory usage: 1.1+ MB\n"
     ]
    }
   ],
   "source": [
    "df.info()"
   ]
  },
  {
   "cell_type": "code",
   "execution_count": 320,
   "id": "e0f81595-c1f6-4b54-88ce-03d80a16bfc8",
   "metadata": {},
   "outputs": [
    {
     "data": {
      "text/plain": [
       "name                    1\n",
       "category_list        1086\n",
       "funding_total_usd       0\n",
       "country_code         1991\n",
       "state_code           2209\n",
       "founded_at           3732\n",
       "funding_rounds          0\n",
       "first_funding_at        2\n",
       "last_funding_at         0\n",
       "status                  0\n",
       "dtype: int64"
      ]
     },
     "execution_count": 320,
     "metadata": {},
     "output_type": "execute_result"
    }
   ],
   "source": [
    "df.isnull().sum()"
   ]
  },
  {
   "cell_type": "code",
   "execution_count": 321,
   "id": "13139266-ecba-424e-abb4-54deecbefb25",
   "metadata": {},
   "outputs": [],
   "source": [
    "def status_to_binary(status):\n",
    "    if status in ['acquired', 'ipo']:\n",
    "        return 1\n",
    "    elif status == 'closed':\n",
    "        return 0\n",
    "    else:\n",
    "        return None  # if any unexpected value\n",
    "\n",
    "# Apply to new column\n",
    "df['status_binary'] = df['status'].apply(status_to_binary)"
   ]
  },
  {
   "cell_type": "code",
   "execution_count": 322,
   "id": "6cfd362f-cb7a-4c99-a8ae-28110bc100f6",
   "metadata": {},
   "outputs": [
    {
     "name": "stdout",
     "output_type": "stream",
     "text": [
      "                   Missing Count  Missing %\n",
      "founded_at                  3732  26.735440\n",
      "state_code                  2209  15.824916\n",
      "country_code                1991  14.263199\n",
      "category_list               1086   7.779927\n",
      "first_funding_at               2   0.014328\n",
      "name                           1   0.007164\n",
      "funding_total_usd              0   0.000000\n",
      "funding_rounds                 0   0.000000\n",
      "last_funding_at                0   0.000000\n",
      "status                         0   0.000000\n",
      "status_binary                  0   0.000000\n"
     ]
    }
   ],
   "source": [
    "missing_values = pd.DataFrame({\n",
    "    'Missing Count': df.isnull().sum(),\n",
    "    'Missing %': (df.isnull().sum() / len(df)) * 100\n",
    "}).sort_values(by='Missing Count', ascending=False)\n",
    "\n",
    "print(missing_values)"
   ]
  },
  {
   "cell_type": "code",
   "execution_count": 323,
   "id": "3454b919-f1a1-4dc4-9d86-9374b45eb537",
   "metadata": {},
   "outputs": [],
   "source": [
    "df['founded_at'] = pd.to_datetime(df['founded_at'], errors='coerce')\n",
    "df['first_funding_at'] = pd.to_datetime(df['first_funding_at'], errors='coerce')\n",
    "df['last_funding_at'] = pd.to_datetime(df['last_funding_at'], errors='coerce')\n"
   ]
  },
  {
   "cell_type": "code",
   "execution_count": 324,
   "id": "edad25de",
   "metadata": {},
   "outputs": [
    {
     "data": {
      "text/html": [
       "<div>\n",
       "<style scoped>\n",
       "    .dataframe tbody tr th:only-of-type {\n",
       "        vertical-align: middle;\n",
       "    }\n",
       "\n",
       "    .dataframe tbody tr th {\n",
       "        vertical-align: top;\n",
       "    }\n",
       "\n",
       "    .dataframe thead th {\n",
       "        text-align: right;\n",
       "    }\n",
       "</style>\n",
       "<table border=\"1\" class=\"dataframe\">\n",
       "  <thead>\n",
       "    <tr style=\"text-align: right;\">\n",
       "      <th></th>\n",
       "      <th>name</th>\n",
       "      <th>category_list</th>\n",
       "      <th>funding_total_usd</th>\n",
       "      <th>country_code</th>\n",
       "      <th>state_code</th>\n",
       "      <th>founded_at</th>\n",
       "      <th>funding_rounds</th>\n",
       "      <th>first_funding_at</th>\n",
       "      <th>last_funding_at</th>\n",
       "      <th>status</th>\n",
       "      <th>status_binary</th>\n",
       "    </tr>\n",
       "  </thead>\n",
       "  <tbody>\n",
       "    <tr>\n",
       "      <th>0</th>\n",
       "      <td>1 Mainstream</td>\n",
       "      <td>['Apps', 'Cable', 'Distribution', 'Software']</td>\n",
       "      <td>5000000</td>\n",
       "      <td>USA</td>\n",
       "      <td>CA</td>\n",
       "      <td>2012-03-01</td>\n",
       "      <td>1</td>\n",
       "      <td>2015-03-17</td>\n",
       "      <td>2015-03-17</td>\n",
       "      <td>acquired</td>\n",
       "      <td>1</td>\n",
       "    </tr>\n",
       "    <tr>\n",
       "      <th>1</th>\n",
       "      <td>1000 Markets</td>\n",
       "      <td>['Art', 'E-Commerce', 'Marketplaces']</td>\n",
       "      <td>500000</td>\n",
       "      <td>USA</td>\n",
       "      <td>WA</td>\n",
       "      <td>2009-01-01</td>\n",
       "      <td>1</td>\n",
       "      <td>2009-05-15</td>\n",
       "      <td>2009-05-15</td>\n",
       "      <td>acquired</td>\n",
       "      <td>1</td>\n",
       "    </tr>\n",
       "    <tr>\n",
       "      <th>2</th>\n",
       "      <td>1000memories</td>\n",
       "      <td>['Curated Web']</td>\n",
       "      <td>2535000</td>\n",
       "      <td>USA</td>\n",
       "      <td>CA</td>\n",
       "      <td>2010-07-01</td>\n",
       "      <td>2</td>\n",
       "      <td>2010-01-01</td>\n",
       "      <td>2011-02-16</td>\n",
       "      <td>acquired</td>\n",
       "      <td>1</td>\n",
       "    </tr>\n",
       "    <tr>\n",
       "      <th>3</th>\n",
       "      <td>100Plus</td>\n",
       "      <td>['Analytics']</td>\n",
       "      <td>1250000</td>\n",
       "      <td>USA</td>\n",
       "      <td>CA</td>\n",
       "      <td>2011-09-16</td>\n",
       "      <td>2</td>\n",
       "      <td>2011-11-02</td>\n",
       "      <td>2011-11-30</td>\n",
       "      <td>acquired</td>\n",
       "      <td>1</td>\n",
       "    </tr>\n",
       "    <tr>\n",
       "      <th>4</th>\n",
       "      <td>1010data</td>\n",
       "      <td>['Software']</td>\n",
       "      <td>35000000</td>\n",
       "      <td>USA</td>\n",
       "      <td>NY</td>\n",
       "      <td>2000-01-01</td>\n",
       "      <td>1</td>\n",
       "      <td>2010-03-08</td>\n",
       "      <td>2010-03-08</td>\n",
       "      <td>acquired</td>\n",
       "      <td>1</td>\n",
       "    </tr>\n",
       "  </tbody>\n",
       "</table>\n",
       "</div>"
      ],
      "text/plain": [
       "           name                                  category_list  \\\n",
       "0  1 Mainstream  ['Apps', 'Cable', 'Distribution', 'Software']   \n",
       "1  1000 Markets          ['Art', 'E-Commerce', 'Marketplaces']   \n",
       "2  1000memories                                ['Curated Web']   \n",
       "3       100Plus                                  ['Analytics']   \n",
       "4      1010data                                   ['Software']   \n",
       "\n",
       "  funding_total_usd country_code state_code founded_at  funding_rounds  \\\n",
       "0           5000000          USA         CA 2012-03-01               1   \n",
       "1            500000          USA         WA 2009-01-01               1   \n",
       "2           2535000          USA         CA 2010-07-01               2   \n",
       "3           1250000          USA         CA 2011-09-16               2   \n",
       "4          35000000          USA         NY 2000-01-01               1   \n",
       "\n",
       "  first_funding_at last_funding_at    status  status_binary  \n",
       "0       2015-03-17      2015-03-17  acquired              1  \n",
       "1       2009-05-15      2009-05-15  acquired              1  \n",
       "2       2010-01-01      2011-02-16  acquired              1  \n",
       "3       2011-11-02      2011-11-30  acquired              1  \n",
       "4       2010-03-08      2010-03-08  acquired              1  "
      ]
     },
     "execution_count": 324,
     "metadata": {},
     "output_type": "execute_result"
    }
   ],
   "source": [
    "df.head()"
   ]
  },
  {
   "cell_type": "code",
   "execution_count": 325,
   "id": "c1f0068b-4fd2-4a7f-bcb5-77300f8ded51",
   "metadata": {},
   "outputs": [],
   "source": [
    "df = df.drop(columns=['status'])"
   ]
  },
  {
   "cell_type": "code",
   "execution_count": 326,
   "id": "b4c6ed94-695b-4657-b0f9-fb438fab7f6b",
   "metadata": {},
   "outputs": [],
   "source": [
    "df.dropna(subset=['first_funding_at'], inplace=True)"
   ]
  },
  {
   "cell_type": "code",
   "execution_count": 327,
   "id": "212134aa-3241-4ee5-b556-1204373e1c73",
   "metadata": {},
   "outputs": [
    {
     "name": "stdout",
     "output_type": "stream",
     "text": [
      "                   Missing Count  Missing %\n",
      "founded_at                  3734  26.753600\n",
      "state_code                  2209  15.827183\n",
      "country_code                1991  14.265243\n",
      "category_list               1086   7.781042\n",
      "name                           1   0.007165\n",
      "funding_total_usd              0   0.000000\n",
      "funding_rounds                 0   0.000000\n",
      "first_funding_at               0   0.000000\n",
      "last_funding_at                0   0.000000\n",
      "status_binary                  0   0.000000\n"
     ]
    }
   ],
   "source": [
    "missing_values = pd.DataFrame({\n",
    "    'Missing Count': df.isnull().sum(),\n",
    "    'Missing %': (df.isnull().sum() / len(df)) * 100\n",
    "}).sort_values(by='Missing Count', ascending=False)\n",
    "\n",
    "print(missing_values)"
   ]
  },
  {
   "cell_type": "code",
   "execution_count": 328,
   "id": "6640c913",
   "metadata": {},
   "outputs": [],
   "source": [
    "df['state_code'] = df['state_code'].fillna('unknown')\n"
   ]
  },
  {
   "cell_type": "code",
   "execution_count": 329,
   "id": "72acaa10",
   "metadata": {},
   "outputs": [],
   "source": [
    "# First, create a mapping of the most common country_code for each state_code\n",
    "state_to_country = (\n",
    "    df[df['country_code'].notna() & df['state_code'].notna()]\n",
    "    .groupby('state_code')['country_code']\n",
    "    .agg(lambda x: x.value_counts().index[0])\n",
    ")\n",
    "\n",
    "# Now, fill missing country_code based on that mapping\n",
    "def fill_country_code(row):\n",
    "    if pd.isna(row['country_code']):\n",
    "        return state_to_country.get(row['state_code'], np.nan)\n",
    "    return row['country_code']\n",
    "\n",
    "df['country_code'] = df.apply(fill_country_code, axis=1)"
   ]
  },
  {
   "cell_type": "code",
   "execution_count": 330,
   "id": "59e82827",
   "metadata": {},
   "outputs": [
    {
     "name": "stdout",
     "output_type": "stream",
     "text": [
      "                   Missing Count  Missing %\n",
      "founded_at                  3734  26.753600\n",
      "category_list               1086   7.781042\n",
      "name                           1   0.007165\n",
      "funding_total_usd              0   0.000000\n",
      "country_code                   0   0.000000\n",
      "state_code                     0   0.000000\n",
      "funding_rounds                 0   0.000000\n",
      "first_funding_at               0   0.000000\n",
      "last_funding_at                0   0.000000\n",
      "status_binary                  0   0.000000\n"
     ]
    }
   ],
   "source": [
    "missing_values = pd.DataFrame({\n",
    "    'Missing Count': df.isnull().sum(),\n",
    "    'Missing %': (df.isnull().sum() / len(df)) * 100\n",
    "}).sort_values(by='Missing Count', ascending=False)\n",
    "\n",
    "print(missing_values)"
   ]
  },
  {
   "cell_type": "code",
   "execution_count": 331,
   "id": "77e70a08",
   "metadata": {},
   "outputs": [],
   "source": [
    "df.dropna(subset=['category_list'], inplace=True)"
   ]
  },
  {
   "cell_type": "code",
   "execution_count": 332,
   "id": "eade7071",
   "metadata": {},
   "outputs": [],
   "source": [
    "import pandas as pd\n",
    "\n",
    "# Ensure datetime format\n",
    "df['first_funding_at'] = pd.to_datetime(df['first_funding_at'], errors='coerce')\n",
    "df['founded_at'] = pd.to_datetime(df['founded_at'], errors='coerce')\n",
    "\n",
    "# Calculate mean time difference where both dates are available\n",
    "valid_dates = df[df['first_funding_at'].notna() & df['founded_at'].notna()]\n",
    "mean_diff = (valid_dates['first_funding_at'] - valid_dates['founded_at']).mean()\n",
    "\n",
    "# Fill missing founded_at as first_funding_at - mean_diff\n",
    "df.loc[df['founded_at'].isna(), 'founded_at'] = df['first_funding_at'] - mean_diff\n"
   ]
  },
  {
   "cell_type": "code",
   "execution_count": 333,
   "id": "6e9649a9",
   "metadata": {},
   "outputs": [
    {
     "name": "stdout",
     "output_type": "stream",
     "text": [
      "                   Missing Count  Missing %\n",
      "name                           1   0.007769\n",
      "category_list                  0   0.000000\n",
      "funding_total_usd              0   0.000000\n",
      "country_code                   0   0.000000\n",
      "state_code                     0   0.000000\n",
      "founded_at                     0   0.000000\n",
      "funding_rounds                 0   0.000000\n",
      "first_funding_at               0   0.000000\n",
      "last_funding_at                0   0.000000\n",
      "status_binary                  0   0.000000\n"
     ]
    }
   ],
   "source": [
    "missing_values = pd.DataFrame({\n",
    "    'Missing Count': df.isnull().sum(),\n",
    "    'Missing %': (df.isnull().sum() / len(df)) * 100\n",
    "}).sort_values(by='Missing Count', ascending=False)\n",
    "\n",
    "print(missing_values)"
   ]
  },
  {
   "cell_type": "code",
   "execution_count": 334,
   "id": "5f73a13f-2365-4bca-af57-88650891b714",
   "metadata": {},
   "outputs": [],
   "source": [
    "df['name'] = df['name'].fillna('unknown')\n"
   ]
  },
  {
   "cell_type": "code",
   "execution_count": 335,
   "id": "2a51e329-9473-47e0-8034-c74da8acd356",
   "metadata": {},
   "outputs": [],
   "source": [
    "df = df[df['name'].notnull()]"
   ]
  },
  {
   "cell_type": "code",
   "execution_count": 336,
   "id": "a114b546-b013-43b0-9155-6b5ca2f089d0",
   "metadata": {},
   "outputs": [
    {
     "name": "stdout",
     "output_type": "stream",
     "text": [
      "                   Missing Count  Missing %\n",
      "name                           0        0.0\n",
      "category_list                  0        0.0\n",
      "funding_total_usd              0        0.0\n",
      "country_code                   0        0.0\n",
      "state_code                     0        0.0\n",
      "founded_at                     0        0.0\n",
      "funding_rounds                 0        0.0\n",
      "first_funding_at               0        0.0\n",
      "last_funding_at                0        0.0\n",
      "status_binary                  0        0.0\n"
     ]
    }
   ],
   "source": [
    "missing_values = pd.DataFrame({\n",
    "    'Missing Count': df.isnull().sum(),\n",
    "    'Missing %': (df.isnull().sum() / len(df)) * 100\n",
    "}).sort_values(by='Missing Count', ascending=False)\n",
    "\n",
    "print(missing_values)"
   ]
  },
  {
   "cell_type": "code",
   "execution_count": 337,
   "id": "70ea38f6",
   "metadata": {},
   "outputs": [
    {
     "data": {
      "text/plain": [
       "(12871, 10)"
      ]
     },
     "execution_count": 337,
     "metadata": {},
     "output_type": "execute_result"
    }
   ],
   "source": [
    "df.shape"
   ]
  },
  {
   "cell_type": "code",
   "execution_count": 338,
   "id": "5246f78d",
   "metadata": {},
   "outputs": [
    {
     "name": "stdout",
     "output_type": "stream",
     "text": [
      "<class 'pandas.core.frame.DataFrame'>\n",
      "Index: 12871 entries, 0 to 13958\n",
      "Data columns (total 10 columns):\n",
      " #   Column             Non-Null Count  Dtype         \n",
      "---  ------             --------------  -----         \n",
      " 0   name               12871 non-null  object        \n",
      " 1   category_list      12871 non-null  object        \n",
      " 2   funding_total_usd  12871 non-null  object        \n",
      " 3   country_code       12871 non-null  object        \n",
      " 4   state_code         12871 non-null  object        \n",
      " 5   founded_at         12871 non-null  datetime64[ns]\n",
      " 6   funding_rounds     12871 non-null  int64         \n",
      " 7   first_funding_at   12871 non-null  datetime64[ns]\n",
      " 8   last_funding_at    12871 non-null  datetime64[ns]\n",
      " 9   status_binary      12871 non-null  int64         \n",
      "dtypes: datetime64[ns](3), int64(2), object(5)\n",
      "memory usage: 1.6+ MB\n"
     ]
    }
   ],
   "source": [
    "df.info()"
   ]
  },
  {
   "cell_type": "code",
   "execution_count": 339,
   "id": "b9fd0b62",
   "metadata": {},
   "outputs": [
    {
     "data": {
      "text/plain": [
       "1512"
      ]
     },
     "execution_count": 339,
     "metadata": {},
     "output_type": "execute_result"
    }
   ],
   "source": [
    "(df['funding_total_usd'] == '-').sum()"
   ]
  },
  {
   "cell_type": "code",
   "execution_count": 340,
   "id": "ffc0d2e7",
   "metadata": {},
   "outputs": [],
   "source": [
    "# Step 1: Replace '-' with NaN\n",
    "df['funding_total_usd'] = df['funding_total_usd'].replace('-', np.nan)\n",
    "\n",
    "# Step 2: Convert to numeric\n",
    "df['funding_total_usd'] = pd.to_numeric(df['funding_total_usd'], errors='coerce')\n",
    "\n",
    "# Step 3: Fill NaN with mean funding per country\n",
    "df['funding_total_usd'] = df.groupby('country_code')['funding_total_usd'] \\\n",
    "                            .transform(lambda x: x.fillna(x.mean()))"
   ]
  },
  {
   "cell_type": "code",
   "execution_count": 341,
   "id": "1dacb85e",
   "metadata": {},
   "outputs": [
    {
     "name": "stdout",
     "output_type": "stream",
     "text": [
      "<class 'pandas.core.frame.DataFrame'>\n",
      "Index: 12871 entries, 0 to 13958\n",
      "Data columns (total 10 columns):\n",
      " #   Column             Non-Null Count  Dtype         \n",
      "---  ------             --------------  -----         \n",
      " 0   name               12871 non-null  object        \n",
      " 1   category_list      12871 non-null  object        \n",
      " 2   funding_total_usd  12866 non-null  float64       \n",
      " 3   country_code       12871 non-null  object        \n",
      " 4   state_code         12871 non-null  object        \n",
      " 5   founded_at         12871 non-null  datetime64[ns]\n",
      " 6   funding_rounds     12871 non-null  int64         \n",
      " 7   first_funding_at   12871 non-null  datetime64[ns]\n",
      " 8   last_funding_at    12871 non-null  datetime64[ns]\n",
      " 9   status_binary      12871 non-null  int64         \n",
      "dtypes: datetime64[ns](3), float64(1), int64(2), object(4)\n",
      "memory usage: 1.6+ MB\n"
     ]
    }
   ],
   "source": [
    "df.info()"
   ]
  },
  {
   "cell_type": "code",
   "execution_count": 342,
   "id": "a48aae81",
   "metadata": {},
   "outputs": [],
   "source": [
    "df.to_csv('final_startup_dataset_v4.csv', index=False)"
   ]
  }
 ],
 "metadata": {
  "kernelspec": {
   "display_name": "base",
   "language": "python",
   "name": "python3"
  },
  "language_info": {
   "codemirror_mode": {
    "name": "ipython",
    "version": 3
   },
   "file_extension": ".py",
   "mimetype": "text/x-python",
   "name": "python",
   "nbconvert_exporter": "python",
   "pygments_lexer": "ipython3",
   "version": "3.12.3"
  }
 },
 "nbformat": 4,
 "nbformat_minor": 5
}
