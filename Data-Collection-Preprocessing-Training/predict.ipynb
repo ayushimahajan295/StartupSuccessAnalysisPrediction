{
 "cells": [
  {
   "cell_type": "code",
   "execution_count": 29,
   "id": "ca08500f",
   "metadata": {},
   "outputs": [],
   "source": [
    "import pandas as pd\n",
    "# Simulating user input\n",
    "user_input = {\n",
    "    'funding_total_usd': 500000,   # Example funding in USD\n",
    "    'country_code': 71,  # USA's country code\n",
    "    'funding_rounds': 1,  # Example rounds\n",
    "    'Software': 1,\n",
    "    'Biotechnology': 1,\n",
    "    'Mobile': 0,\n",
    "    'Curated Web': 1,\n",
    "    'E-Commerce': 0,\n",
    "    'Social Media': 0,\n",
    "    'Advertising': 0,\n",
    "    'Enterprise Software': 1,\n",
    "    'Games': 0,\n",
    "    'Health Care': 0,\n",
    "    'Services': 0,\n",
    "    'Internet': 1,\n",
    "    'Technology': 1,\n",
    "    'Finance': 0,\n",
    "    'Analytics': 0,\n",
    "    'Hardware + Software': 0,\n",
    "    'Security': 0,\n",
    "    'Clean Technology': 0,\n",
    "    'Semiconductors': 0,\n",
    "    'Apps': 0,\n",
    "    'Health and Wellness': 0,\n",
    "    'SaaS': 0,\n",
    "    'Web Hosting': 0,\n",
    "    'Video': 0,\n",
    "    'Networking': 0,\n",
    "    'Social Network Media': 0,\n",
    "    'age_at_first_funding': 1,\n",
    "    'age_at_last_funding': 1\n",
    "}\n",
    "\n",
    "input_df = pd.DataFrame([user_input])"
   ]
  },
  {
   "cell_type": "code",
   "execution_count": 30,
   "id": "49fd4359",
   "metadata": {},
   "outputs": [
    {
     "name": "stdout",
     "output_type": "stream",
     "text": [
      "The startup is predicted to be: Successful\n"
     ]
    }
   ],
   "source": [
    "import pickle\n",
    "import joblib\n",
    "\n",
    "model = joblib.load('random_forest_model.pkl')\n",
    "prediction = model.predict(input_df)  # Using the DataFrame directly\n",
    "prediction_result = \"Successful\" if prediction[0] == 1 else \"Unsuccessful\"\n",
    "print(f\"The startup is predicted to be: {prediction_result}\")"
   ]
  }
 ],
 "metadata": {
  "kernelspec": {
   "display_name": "base",
   "language": "python",
   "name": "python3"
  },
  "language_info": {
   "codemirror_mode": {
    "name": "ipython",
    "version": 3
   },
   "file_extension": ".py",
   "mimetype": "text/x-python",
   "name": "python",
   "nbconvert_exporter": "python",
   "pygments_lexer": "ipython3",
   "version": "3.12.3"
  }
 },
 "nbformat": 4,
 "nbformat_minor": 5
}
