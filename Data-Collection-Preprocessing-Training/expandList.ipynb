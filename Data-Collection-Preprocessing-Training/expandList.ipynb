{
 "cells": [
  {
   "cell_type": "code",
   "execution_count": 47,
   "id": "315d4cf9",
   "metadata": {},
   "outputs": [],
   "source": [
    "import pandas as pd"
   ]
  },
  {
   "cell_type": "code",
   "execution_count": 48,
   "id": "3403baa9",
   "metadata": {},
   "outputs": [],
   "source": [
    "df = pd.read_csv('final_startup_dataset_v4.csv')"
   ]
  },
  {
   "cell_type": "code",
   "execution_count": 49,
   "id": "a57c006d",
   "metadata": {},
   "outputs": [],
   "source": [
    "df['name'] = df['name'].str.lower()"
   ]
  },
  {
   "cell_type": "code",
   "execution_count": 14,
   "id": "3f357896",
   "metadata": {},
   "outputs": [
    {
     "data": {
      "text/plain": [
       "3"
      ]
     },
     "execution_count": 14,
     "metadata": {},
     "output_type": "execute_result"
    }
   ],
   "source": [
    "df['name'].duplicated().sum()"
   ]
  },
  {
   "cell_type": "code",
   "execution_count": 15,
   "id": "82a13bf9",
   "metadata": {},
   "outputs": [],
   "source": [
    "df = df.drop_duplicates(subset='name', keep='first')"
   ]
  },
  {
   "cell_type": "code",
   "execution_count": 16,
   "id": "9cf5a73b",
   "metadata": {},
   "outputs": [
    {
     "data": {
      "text/plain": [
       "12267"
      ]
     },
     "execution_count": 16,
     "metadata": {},
     "output_type": "execute_result"
    }
   ],
   "source": [
    "df['name'].nunique()"
   ]
  },
  {
   "cell_type": "code",
   "execution_count": 17,
   "id": "55e0d4e5",
   "metadata": {},
   "outputs": [
    {
     "data": {
      "text/plain": [
       "(12267, 10)"
      ]
     },
     "execution_count": 17,
     "metadata": {},
     "output_type": "execute_result"
    }
   ],
   "source": [
    "df.shape"
   ]
  },
  {
   "cell_type": "code",
   "execution_count": 51,
   "id": "3fc8bafb",
   "metadata": {},
   "outputs": [],
   "source": [
    "df['founded_at'] = pd.to_datetime(df['founded_at'], errors='coerce')\n",
    "df['founded_at'] = df['founded_at'].dt.strftime('%Y-%m-%d')"
   ]
  },
  {
   "cell_type": "code",
   "execution_count": 53,
   "id": "e7618bf0",
   "metadata": {},
   "outputs": [],
   "source": [
    "df.to_csv('final_startup_dataset_v4.csv', index=False)"
   ]
  },
  {
   "cell_type": "code",
   "execution_count": 52,
   "id": "bd3c3ff3",
   "metadata": {},
   "outputs": [
    {
     "data": {
      "text/html": [
       "<div>\n",
       "<style scoped>\n",
       "    .dataframe tbody tr th:only-of-type {\n",
       "        vertical-align: middle;\n",
       "    }\n",
       "\n",
       "    .dataframe tbody tr th {\n",
       "        vertical-align: top;\n",
       "    }\n",
       "\n",
       "    .dataframe thead th {\n",
       "        text-align: right;\n",
       "    }\n",
       "</style>\n",
       "<table border=\"1\" class=\"dataframe\">\n",
       "  <thead>\n",
       "    <tr style=\"text-align: right;\">\n",
       "      <th></th>\n",
       "      <th>name</th>\n",
       "      <th>category_list</th>\n",
       "      <th>funding_total_usd</th>\n",
       "      <th>country_code</th>\n",
       "      <th>state_code</th>\n",
       "      <th>founded_at</th>\n",
       "      <th>funding_rounds</th>\n",
       "      <th>first_funding_at</th>\n",
       "      <th>last_funding_at</th>\n",
       "      <th>status_binary</th>\n",
       "    </tr>\n",
       "  </thead>\n",
       "  <tbody>\n",
       "    <tr>\n",
       "      <th>0</th>\n",
       "      <td>1 mainstream</td>\n",
       "      <td>['Apps', 'Cable', 'Distribution', 'Software']</td>\n",
       "      <td>5000000.0</td>\n",
       "      <td>USA</td>\n",
       "      <td>CA</td>\n",
       "      <td>2012-03-01</td>\n",
       "      <td>1</td>\n",
       "      <td>2015-03-17</td>\n",
       "      <td>2015-03-17</td>\n",
       "      <td>1</td>\n",
       "    </tr>\n",
       "    <tr>\n",
       "      <th>1</th>\n",
       "      <td>1000 markets</td>\n",
       "      <td>['Art', 'E-Commerce', 'Marketplaces']</td>\n",
       "      <td>500000.0</td>\n",
       "      <td>USA</td>\n",
       "      <td>WA</td>\n",
       "      <td>2009-01-01</td>\n",
       "      <td>1</td>\n",
       "      <td>2009-05-15</td>\n",
       "      <td>2009-05-15</td>\n",
       "      <td>1</td>\n",
       "    </tr>\n",
       "    <tr>\n",
       "      <th>2</th>\n",
       "      <td>1000memories</td>\n",
       "      <td>['Curated Web']</td>\n",
       "      <td>2535000.0</td>\n",
       "      <td>USA</td>\n",
       "      <td>CA</td>\n",
       "      <td>2010-07-01</td>\n",
       "      <td>2</td>\n",
       "      <td>2010-01-01</td>\n",
       "      <td>2011-02-16</td>\n",
       "      <td>1</td>\n",
       "    </tr>\n",
       "    <tr>\n",
       "      <th>3</th>\n",
       "      <td>100plus</td>\n",
       "      <td>['Analytics']</td>\n",
       "      <td>1250000.0</td>\n",
       "      <td>USA</td>\n",
       "      <td>CA</td>\n",
       "      <td>2011-09-16</td>\n",
       "      <td>2</td>\n",
       "      <td>2011-11-02</td>\n",
       "      <td>2011-11-30</td>\n",
       "      <td>1</td>\n",
       "    </tr>\n",
       "    <tr>\n",
       "      <th>4</th>\n",
       "      <td>1010data</td>\n",
       "      <td>['Software']</td>\n",
       "      <td>35000000.0</td>\n",
       "      <td>USA</td>\n",
       "      <td>NY</td>\n",
       "      <td>2000-01-01</td>\n",
       "      <td>1</td>\n",
       "      <td>2010-03-08</td>\n",
       "      <td>2010-03-08</td>\n",
       "      <td>1</td>\n",
       "    </tr>\n",
       "  </tbody>\n",
       "</table>\n",
       "</div>"
      ],
      "text/plain": [
       "           name                                  category_list  \\\n",
       "0  1 mainstream  ['Apps', 'Cable', 'Distribution', 'Software']   \n",
       "1  1000 markets          ['Art', 'E-Commerce', 'Marketplaces']   \n",
       "2  1000memories                                ['Curated Web']   \n",
       "3       100plus                                  ['Analytics']   \n",
       "4      1010data                                   ['Software']   \n",
       "\n",
       "   funding_total_usd country_code state_code  founded_at  funding_rounds  \\\n",
       "0          5000000.0          USA         CA  2012-03-01               1   \n",
       "1           500000.0          USA         WA  2009-01-01               1   \n",
       "2          2535000.0          USA         CA  2010-07-01               2   \n",
       "3          1250000.0          USA         CA  2011-09-16               2   \n",
       "4         35000000.0          USA         NY  2000-01-01               1   \n",
       "\n",
       "  first_funding_at last_funding_at  status_binary  \n",
       "0       2015-03-17      2015-03-17              1  \n",
       "1       2009-05-15      2009-05-15              1  \n",
       "2       2010-01-01      2011-02-16              1  \n",
       "3       2011-11-02      2011-11-30              1  \n",
       "4       2010-03-08      2010-03-08              1  "
      ]
     },
     "execution_count": 52,
     "metadata": {},
     "output_type": "execute_result"
    }
   ],
   "source": [
    "df.head()\n"
   ]
  },
  {
   "cell_type": "code",
   "execution_count": 20,
   "id": "84f68f13",
   "metadata": {},
   "outputs": [
    {
     "name": "stdout",
     "output_type": "stream",
     "text": [
      "New CSV created: 'company_categories.csv'\n"
     ]
    }
   ],
   "source": [
    "import ast\n",
    "\n",
    "df = pd.read_csv('final_startup_dataset_v4.csv', usecols=['name', 'category_list'])\n",
    "\n",
    "# Step 2: Convert stringified lists to actual Python lists\n",
    "df['category_list'] = df['category_list'].apply(ast.literal_eval)\n",
    "\n",
    "# Step 3: Explode the list into separate rows\n",
    "df_exploded = df.explode('category_list')\n",
    "\n",
    "# Step 4: Rename the category column for clarity\n",
    "df_exploded = df_exploded.rename(columns={'category_list': 'category'})\n",
    "\n",
    "# Step 5: Save the new CSV\n",
    "df_exploded.to_csv('company_categories.csv', index=False)\n",
    "\n",
    "print(\"New CSV created: 'company_categories.csv'\")"
   ]
  }
 ],
 "metadata": {
  "kernelspec": {
   "display_name": "base",
   "language": "python",
   "name": "python3"
  },
  "language_info": {
   "codemirror_mode": {
    "name": "ipython",
    "version": 3
   },
   "file_extension": ".py",
   "mimetype": "text/x-python",
   "name": "python",
   "nbconvert_exporter": "python",
   "pygments_lexer": "ipython3",
   "version": "3.12.3"
  }
 },
 "nbformat": 4,
 "nbformat_minor": 5
}
